{
 "cells": [
  {
   "cell_type": "code",
   "id": "initial_id",
   "metadata": {
    "collapsed": true,
    "ExecuteTime": {
     "end_time": "2025-09-09T14:17:39.999391Z",
     "start_time": "2025-09-09T14:17:39.966383Z"
    }
   },
   "source": [
    "import pandas as pd\n",
    "import numpy as np\n",
    "import matplotlib.pyplot as plt\n",
    "import seaborn as sns"
   ],
   "outputs": [],
   "execution_count": 7
  },
  {
   "metadata": {
    "ExecuteTime": {
     "end_time": "2025-09-09T14:41:30.513769Z",
     "start_time": "2025-09-09T14:41:30.465434Z"
    }
   },
   "cell_type": "code",
   "source": [
    "rr = pd.read_csv('Race_Results.csv')\n",
    "qr = pd.read_csv('Qualifying_Results.csv')\n",
    "dr = pd.read_csv('Driver_Rankings.csv')"
   ],
   "id": "4c7e9557fe3724f2",
   "outputs": [],
   "execution_count": 14
  },
  {
   "metadata": {
    "ExecuteTime": {
     "end_time": "2025-09-09T14:41:44.488424Z",
     "start_time": "2025-09-09T14:41:44.486490Z"
    }
   },
   "cell_type": "code",
   "source": "print(rr.columns)",
   "id": "e6320ada295ad792",
   "outputs": [
    {
     "name": "stdout",
     "output_type": "stream",
     "text": [
      "Index(['resultId', 'raceId', 'driverId', 'constructorId', 'number', 'grid',\n",
      "       'position', 'positionText', 'positionOrder', 'points', 'laps', 'time',\n",
      "       'milliseconds', 'fastestLap', 'rank', 'fastestLapTime',\n",
      "       'fastestLapSpeed', 'statusId'],\n",
      "      dtype='object')\n"
     ]
    }
   ],
   "execution_count": 15
  },
  {
   "metadata": {
    "ExecuteTime": {
     "end_time": "2025-09-09T14:41:50.588093Z",
     "start_time": "2025-09-09T14:41:50.585719Z"
    }
   },
   "cell_type": "code",
   "source": "print(qr.columns)",
   "id": "ee2bacd587d31e2a",
   "outputs": [
    {
     "name": "stdout",
     "output_type": "stream",
     "text": [
      "Index(['qualifyId', 'raceId', 'driverId', 'constructorId', 'number',\n",
      "       'position', 'q1', 'q2', 'q3'],\n",
      "      dtype='object')\n"
     ]
    }
   ],
   "execution_count": 16
  },
  {
   "metadata": {
    "ExecuteTime": {
     "end_time": "2025-09-09T15:31:20.296705Z",
     "start_time": "2025-09-09T15:31:20.294344Z"
    }
   },
   "cell_type": "code",
   "source": "print(dr.columns)",
   "id": "7614437560af5e11",
   "outputs": [
    {
     "name": "stdout",
     "output_type": "stream",
     "text": [
      "Index(['driverStandingsId', 'raceId', 'driverId', 'points', 'position',\n",
      "       'positionText', 'wins'],\n",
      "      dtype='object')\n"
     ]
    }
   ],
   "execution_count": 17
  },
  {
   "metadata": {
    "ExecuteTime": {
     "end_time": "2025-09-09T16:06:32.054181Z",
     "start_time": "2025-09-09T16:06:32.044049Z"
    }
   },
   "cell_type": "code",
   "source": [
    "# Merge Race Results with Qualifying Results\n",
    "df = rr.merge(\n",
    "    qr[['raceId','driverId','position']],\n",
    "    on=['raceId','driverId'],\n",
    "    how='left',\n",
    "    suffixes=('','_qual')\n",
    ")"
   ],
   "id": "eea17f93c47aa6cf",
   "outputs": [],
   "execution_count": 19
  },
  {
   "metadata": {
    "ExecuteTime": {
     "end_time": "2025-09-09T16:08:26.102667Z",
     "start_time": "2025-09-09T16:08:26.093062Z"
    }
   },
   "cell_type": "code",
   "source": [
    "# Merge with Driver Rankings\n",
    "df = df.merge(\n",
    "    dr[['raceId','driverId','points','position','wins']],\n",
    "    on=['raceId','driverId'],\n",
    "    how='left',\n",
    "    suffixes=('','_rank')\n",
    ")"
   ],
   "id": "63d2d8476b849aa8",
   "outputs": [],
   "execution_count": 20
  },
  {
   "metadata": {
    "ExecuteTime": {
     "end_time": "2025-09-09T16:14:12.266665Z",
     "start_time": "2025-09-09T16:14:12.262511Z"
    }
   },
   "cell_type": "code",
   "source": "df['won'] = (df[\"positionOrder\"] == 1).astype(int)",
   "id": "a49afbf6e280343e",
   "outputs": [],
   "execution_count": 21
  },
  {
   "metadata": {
    "ExecuteTime": {
     "end_time": "2025-09-09T16:16:04.395136Z",
     "start_time": "2025-09-09T16:16:04.389044Z"
    }
   },
   "cell_type": "code",
   "source": "print(df.head())",
   "id": "d4b983a32b2555b7",
   "outputs": [
    {
     "name": "stdout",
     "output_type": "stream",
     "text": [
      "   resultId  raceId  driverId  constructorId number  grid position  \\\n",
      "0         1      18         1              1     22     1        1   \n",
      "1         2      18         2              2      3     5        2   \n",
      "2         3      18         3              3      7     7        3   \n",
      "3         4      18         4              4      5    11        4   \n",
      "4         5      18         5              1     23     3        5   \n",
      "\n",
      "  positionText  positionOrder  points  ...  fastestLap rank fastestLapTime  \\\n",
      "0            1              1    10.0  ...          39    2       1:27.452   \n",
      "1            2              2     8.0  ...          41    3       1:27.739   \n",
      "2            3              3     6.0  ...          41    5       1:28.090   \n",
      "3            4              4     5.0  ...          58    7       1:28.603   \n",
      "4            5              5     4.0  ...          43    1       1:27.418   \n",
      "\n",
      "  fastestLapSpeed statusId position_qual points_rank  position_rank  wins  won  \n",
      "0         218.300        1           1.0        10.0            1.0   1.0    1  \n",
      "1         217.586        1           5.0         8.0            2.0   0.0    0  \n",
      "2         216.719        1           7.0         6.0            3.0   0.0    0  \n",
      "3         215.464        1          12.0         5.0            4.0   0.0    0  \n",
      "4         218.385        1           3.0         4.0            5.0   0.0    0  \n",
      "\n",
      "[5 rows x 23 columns]\n"
     ]
    }
   ],
   "execution_count": 22
  },
  {
   "metadata": {},
   "cell_type": "code",
   "outputs": [],
   "execution_count": null,
   "source": "",
   "id": "bd87708027c9ea13"
  }
 ],
 "metadata": {
  "kernelspec": {
   "display_name": "Python 3",
   "language": "python",
   "name": "python3"
  },
  "language_info": {
   "codemirror_mode": {
    "name": "ipython",
    "version": 2
   },
   "file_extension": ".py",
   "mimetype": "text/x-python",
   "name": "python",
   "nbconvert_exporter": "python",
   "pygments_lexer": "ipython2",
   "version": "2.7.6"
  }
 },
 "nbformat": 4,
 "nbformat_minor": 5
}
