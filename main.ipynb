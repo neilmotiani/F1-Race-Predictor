{
 "cells": [
  {
   "cell_type": "code",
   "id": "initial_id",
   "metadata": {
    "collapsed": true,
    "ExecuteTime": {
     "end_time": "2025-09-09T14:17:39.999391Z",
     "start_time": "2025-09-09T14:17:39.966383Z"
    }
   },
   "source": [
    "import pandas as pd\n",
    "import numpy as np\n",
    "import matplotlib.pyplot as plt\n",
    "import seaborn as sns"
   ],
   "outputs": [],
   "execution_count": 7
  },
  {
   "metadata": {
    "ExecuteTime": {
     "end_time": "2025-09-09T14:23:38.222284Z",
     "start_time": "2025-09-09T14:23:38.192795Z"
    }
   },
   "cell_type": "code",
   "source": "rr = pd.read_csv('Race_Results.csv')",
   "id": "4c7e9557fe3724f2",
   "outputs": [],
   "execution_count": 10
  },
  {
   "metadata": {
    "ExecuteTime": {
     "end_time": "2025-09-09T14:23:56.862830Z",
     "start_time": "2025-09-09T14:23:56.852712Z"
    }
   },
   "cell_type": "code",
   "source": "qr = pd.read_csv('Qualifying_Results.csv')",
   "id": "a664ce0874da142c",
   "outputs": [],
   "execution_count": 11
  },
  {
   "metadata": {
    "ExecuteTime": {
     "end_time": "2025-09-09T14:24:25.729346Z",
     "start_time": "2025-09-09T14:24:25.716472Z"
    }
   },
   "cell_type": "code",
   "source": "dr = pd.read_csv('Driver_Rankings.csv')",
   "id": "d681aac649d7acc0",
   "outputs": [],
   "execution_count": 12
  },
  {
   "metadata": {},
   "cell_type": "code",
   "outputs": [],
   "execution_count": null,
   "source": "",
   "id": "e6320ada295ad792"
  }
 ],
 "metadata": {
  "kernelspec": {
   "display_name": "Python 3",
   "language": "python",
   "name": "python3"
  },
  "language_info": {
   "codemirror_mode": {
    "name": "ipython",
    "version": 2
   },
   "file_extension": ".py",
   "mimetype": "text/x-python",
   "name": "python",
   "nbconvert_exporter": "python",
   "pygments_lexer": "ipython2",
   "version": "2.7.6"
  }
 },
 "nbformat": 4,
 "nbformat_minor": 5
}
